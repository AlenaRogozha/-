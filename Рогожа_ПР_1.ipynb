{
  "nbformat": 4,
  "nbformat_minor": 0,
  "metadata": {
    "colab": {
      "name": "Рогожа ПР 1",
      "provenance": [],
      "collapsed_sections": []
    },
    "kernelspec": {
      "name": "python3",
      "display_name": "Python 3"
    }
  },
  "cells": [
    {
      "cell_type": "markdown",
      "metadata": {
        "id": "hOC3OFXJTbg_"
      },
      "source": [
        "# RSA и Python.\n",
        "Для реализации RSA в Питоне мы будем использовать модуль который так и называется RSA. Он поддерживает шифрование и расшифровку, подписание и проверку подписей в соответствии с PKCS#1 версия 1.5."
      ]
    },
    {
      "cell_type": "markdown",
      "metadata": {
        "id": "Gs-PR8aESRfB"
      },
      "source": [
        "# RSA шифрование в Python\n",
        "RSA - криптографический алгоритм с открытым ключем. При создании приложения вы генерируете два ключа: публичный (открытый) и приватный (закрытый).\n",
        "Открытый ключ передается всем желающим и заинтерисованным. С его помошью можно зашифровать данные. А вот расшифровать можно только знаю другой ключ из пары (т.е. закрытый), его мы никому не скажем даже под страхом смерти.\n",
        "\n",
        "Чтобы установить модуль rsa для python:"
      ]
    },
    {
      "cell_type": "code",
      "metadata": {
        "id": "8fsWARVBRzjh",
        "colab": {
          "base_uri": "https://localhost:8080/"
        },
        "outputId": "537e2347-3c2b-4478-c8bd-c7e953408004"
      },
      "source": [
        "!pip install rsa"
      ],
      "execution_count": null,
      "outputs": [
        {
          "output_type": "stream",
          "text": [
            "Requirement already satisfied: rsa in /usr/local/lib/python3.7/dist-packages (4.7.2)\n",
            "Requirement already satisfied: pyasn1>=0.1.3 in /usr/local/lib/python3.7/dist-packages (from rsa) (0.4.8)\n"
          ],
          "name": "stdout"
        }
      ]
    },
    {
      "cell_type": "markdown",
      "metadata": {
        "id": "QnDT-rMzSfR6"
      },
      "source": [
        "После загрузки приступаем к шифрованию."
      ]
    },
    {
      "cell_type": "code",
      "metadata": {
        "id": "Ec7Z7P1USIz1",
        "colab": {
          "base_uri": "https://localhost:8080/"
        },
        "outputId": "715ed872-7cc8-4ba4-fb3b-57fa9876f263"
      },
      "source": [
        "import rsa\n",
        "(pubkey, privkey) = rsa.newkeys(512)\n",
        " \n",
        "message = b'Hello MGPU!'\n",
        " \n",
        "# шифруем\n",
        "crypto = rsa.encrypt(message, pubkey)\n",
        "print(crypto)\n",
        "#расшифровываем\n",
        "message = rsa.decrypt(crypto, privkey)\n",
        "print(message)"
      ],
      "execution_count": null,
      "outputs": [
        {
          "output_type": "stream",
          "text": [
            "b'q\\xdaRl@\\x8a\\x02\\'\\\\X\\n]\\n\\x0ftA\\x13>6\\x97\\x04\\x15\\xfd{2z\\x1a\\xec\\xe9\\x10\\x13\\xe0\\xc8\\xeb2.=YZ\\x14d\\x1d:\\xb7Y\\x82\\xb2E\\xd2:\\xf5\\xa3g\\xa2;3D\\xb0\\xdb\"\\xd7/\\x14f'\n",
            "b'Hello MGPU!'\n"
          ],
          "name": "stdout"
        }
      ]
    },
    {
      "cell_type": "markdown",
      "metadata": {
        "id": "agEEGowyTl4y"
      },
      "source": [
        "# Цифровая подпись\n"
      ]
    },
    {
      "cell_type": "code",
      "metadata": {
        "id": "YtAtLP0ETsQJ"
      },
      "source": [
        "import rsa\n",
        "(pubkey, privkey) = rsa.newkeys(512)\n",
        "message = b'Test message'\n",
        "signature = rsa.sign(message, privkey, 'SHA-1') \n",
        " # Создание подписи rsa.sign(message, priv_key, hash_method), можно использовать ‘MD5’, ‘SHA-1’, ‘SHA-224’, 'SHA-256’, ‘SHA-384’ и ‘SHA-512’ "
      ],
      "execution_count": null,
      "outputs": []
    },
    {
      "cell_type": "markdown",
      "metadata": {
        "id": "IMN7Q9T_VCL1"
      },
      "source": [
        "Для проверки подписи используйте rsa.verify() функция. Эта функция возвращает значение True или метод шифрования, если проверка прошла успешно:"
      ]
    },
    {
      "cell_type": "code",
      "metadata": {
        "id": "oIClo-E_VGsn",
        "colab": {
          "base_uri": "https://localhost:8080/",
          "height": 35
        },
        "outputId": "630675cd-0e22-4d4a-ea77-967bd563ba2b"
      },
      "source": [
        "message = b'Test message'\n",
        "rsa.verify(message, signature, pubkey)"
      ],
      "execution_count": null,
      "outputs": [
        {
          "output_type": "execute_result",
          "data": {
            "application/vnd.google.colaboratory.intrinsic+json": {
              "type": "string"
            },
            "text/plain": [
              "'SHA-1'"
            ]
          },
          "metadata": {
            "tags": []
          },
          "execution_count": 4
        }
      ]
    },
    {
      "cell_type": "markdown",
      "metadata": {
        "id": "55rPM3uZWIPt"
      },
      "source": [
        "Если подпись не действительно выйдет исключение rsa.pkcs1.VerificationError **Verification failed**"
      ]
    },
    {
      "cell_type": "code",
      "metadata": {
        "id": "CyJwtDksV5Mw",
        "colab": {
          "base_uri": "https://localhost:8080/",
          "height": 299
        },
        "outputId": "a1ea04db-c8ed-4f1d-aa3b-44840bfc1a97"
      },
      "source": [
        "message = b'Test message not true'\n",
        "rsa.verify(message, signature, pubkey)"
      ],
      "execution_count": null,
      "outputs": [
        {
          "output_type": "error",
          "ename": "VerificationError",
          "evalue": "ignored",
          "traceback": [
            "\u001b[0;31m---------------------------------------------------------------------------\u001b[0m",
            "\u001b[0;31mVerificationError\u001b[0m                         Traceback (most recent call last)",
            "\u001b[0;32m<ipython-input-7-ddd379071350>\u001b[0m in \u001b[0;36m<module>\u001b[0;34m()\u001b[0m\n\u001b[1;32m      1\u001b[0m \u001b[0mmessage\u001b[0m \u001b[0;34m=\u001b[0m \u001b[0;34mb'Test message not true'\u001b[0m\u001b[0;34m\u001b[0m\u001b[0;34m\u001b[0m\u001b[0m\n\u001b[0;32m----> 2\u001b[0;31m \u001b[0mrsa\u001b[0m\u001b[0;34m.\u001b[0m\u001b[0mverify\u001b[0m\u001b[0;34m(\u001b[0m\u001b[0mmessage\u001b[0m\u001b[0;34m,\u001b[0m \u001b[0msignature\u001b[0m\u001b[0;34m,\u001b[0m \u001b[0mpubkey\u001b[0m\u001b[0;34m)\u001b[0m\u001b[0;34m\u001b[0m\u001b[0;34m\u001b[0m\u001b[0m\n\u001b[0m",
            "\u001b[0;32m/usr/local/lib/python3.7/dist-packages/rsa/pkcs1.py\u001b[0m in \u001b[0;36mverify\u001b[0;34m(message, signature, pub_key)\u001b[0m\n\u001b[1;32m    365\u001b[0m     \u001b[0;31m# Compare with the signed one\u001b[0m\u001b[0;34m\u001b[0m\u001b[0;34m\u001b[0m\u001b[0;34m\u001b[0m\u001b[0m\n\u001b[1;32m    366\u001b[0m     \u001b[0;32mif\u001b[0m \u001b[0mexpected\u001b[0m \u001b[0;34m!=\u001b[0m \u001b[0mclearsig\u001b[0m\u001b[0;34m:\u001b[0m\u001b[0;34m\u001b[0m\u001b[0;34m\u001b[0m\u001b[0m\n\u001b[0;32m--> 367\u001b[0;31m         \u001b[0;32mraise\u001b[0m \u001b[0mVerificationError\u001b[0m\u001b[0;34m(\u001b[0m\u001b[0;34m'Verification failed'\u001b[0m\u001b[0;34m)\u001b[0m\u001b[0;34m\u001b[0m\u001b[0;34m\u001b[0m\u001b[0m\n\u001b[0m\u001b[1;32m    368\u001b[0m \u001b[0;34m\u001b[0m\u001b[0m\n\u001b[1;32m    369\u001b[0m     \u001b[0;32mreturn\u001b[0m \u001b[0mmethod_name\u001b[0m\u001b[0;34m\u001b[0m\u001b[0;34m\u001b[0m\u001b[0m\n",
            "\u001b[0;31mVerificationError\u001b[0m: Verification failed"
          ]
        }
      ]
    },
    {
      "cell_type": "markdown",
      "metadata": {
        "id": "uUS9sRFdWtju"
      },
      "source": [
        "# Проблема больших сообщений"
      ]
    },
    {
      "cell_type": "markdown",
      "metadata": {
        "id": "hpdvPIKHWwZJ"
      },
      "source": [
        "RSA может шифровать только сообщения, которые меньше, чем ключ. Пара байт теряются на случайном заполнении, а остальное доступно для само послание. Например, 512-битный ключ может кодировать 53-байт сообщения (512 бит = 64 байта, 11 байт используются для случайного заполнения и другая вещь.)\n",
        "\n",
        "Но оф. руководство нам предлагает для шифрования больших сообщений воспользоваться блочным шифром, например AES. А его ключ передать зашифрованным с помощью алгоритма RSA :"
      ]
    },
    {
      "cell_type": "markdown",
      "metadata": {
        "id": "OvqaUuHQX3r6"
      },
      "source": [
        "# ИНДИВИДУАЛЬНОЕ ЗАДАНИЕ "
      ]
    },
    {
      "cell_type": "markdown",
      "metadata": {
        "id": "Q7IJtPUqaKQA"
      },
      "source": [
        "RSA шифрование\n",
        "Одним из современных методов шифрования является алгоритм шифрования RSA, названный так по первым буквам фамилий его авторов.\n",
        "\n",
        "\n",
        "Работу алгоритма можно разбить на три шага:\n",
        "\n",
        "Генерация ключей\n",
        "Шифрование\n",
        "Расшифровка \n",
        "От вас в этом задании требуется выполнить только шаг генерации ключей, остальные два шага уже даны (см. исходники к работе ниже).\n",
        "На этапе генерации создаётся два ключа: открытый (public key, с помощью которого каждый сможет зашифровать сообщение и отправить его нам) и закрытый (private key, которым мы можем расшифровать полученные сообщения). Для этого выбирается два простых числа p и q. Позволим пользователю вводить эти числа, но их необходимо проверять на простоту. Для этого напишем функцию is_prime(n):\n",
        "\n",
        "def is_prime(n):\n",
        "    \"\"\"\n",
        "    >>> is_prime(2)\n",
        "    True\n",
        "    >>> is_prime(11)\n",
        "    True\n",
        "    >>> is_prime(8)\n",
        "    False\n",
        "    \"\"\"\n",
        "    # PUT YOUR CODE HERE\n",
        "    pass\n",
        "\n",
        "\n",
        "\n",
        "Если вы не понимаете, как работают функции, то напишите небольшую программу выводящую True или False в зависимости от того, является число простым или нет. Затем полученный код скопируйте в приведенную выше функцию (вместо ключевого слова pass) и замените print(True) на return True, а print(False) на return False.\n",
        "\n",
        "После того как были выбраны два простых числа находится их произведение n = p * q (по ходу объяснения заменяйте комментарий со словами PUT YOUR CODE HERE в приведенной ниже функции на соответствующее решение).\n",
        "\n",
        "def generate_keypair(p, q):\n",
        "    if not (is_prime(p) and is_prime(q)):\n",
        "        raise ValueError('Both numbers must be prime.')\n",
        "    elif p == q:\n",
        "        raise ValueError('p and q cannot be equal')\n",
        "\n",
        "    # n = pq\n",
        "    # PUT YOUR CODE HERE\n",
        "\n",
        "    # phi = (p-1)(q-1)\n",
        "    # PUT YOUR CODE HERE\n",
        "\n",
        "    # Choose an integer e such that e and phi(n) are coprime\n",
        "    e = random.randrange(1, phi)\n",
        "\n",
        "    # Use Euclid's Algorithm to verify that e and phi(n) are comprime\n",
        "    g = gcd(e, phi)\n",
        "    while g != 1:\n",
        "        e = random.randrange(1, phi)\n",
        "        g = gcd(e, phi)\n",
        "\n",
        "    # Use Extended Euclid's Algorithm to generate the private key\n",
        "    d = multiplicative_inverse(e, phi)\n",
        "\n",
        "    # Return public and private keypair\n",
        "    # Public key is (e, n) and private key is (d, n)\n",
        "    return ((e, n), (d, n))\n",
        "Затем вычисляется функция Эйлера по формуе phi=(p-1)(q-1).\n",
        "\n",
        "Далее выбирается число e, отвечающее следующим критериям:\n",
        "\n",
        "e — простое;\n",
        "e < phi;\n",
        "e взаимно простое с phi.\n",
        "Определить, являются ли числа взаимно простыми можно с помощью алгоритма Евклида. Для этого необходимо вычислить наибольший общий делитель (НОД) и проверить, равен ли он единице. На этом этапе вашей задачей является реализация данного алгоритма:\n",
        "\n",
        "def gcd(a, b):\n",
        "    \"\"\"\n",
        "    >>> gcd(12, 15)\n",
        "    3\n",
        "    >>> gcd(3, 7)\n",
        "    1\n",
        "    \"\"\"\n",
        "    # PUT YOUR CODE HERE\n",
        "    pass\n",
        "\n",
        "Заключительным этапом на шаге генерации ключей является вычисление d такого что d * e mod phi = 1. Для его вычисления используется расширенный (обобщенный) алгоритм Евклида (см. стр. 23 этого учебного пособия с подробными объяснениями).\n",
        "\n",
        "def multiplicative_inverse(e, phi):\n",
        "    \"\"\"\n",
        "    >>> multiplicative_inverse(7, 40)\n",
        "    23\n",
        "    \"\"\"\n",
        "    # PUT YOUR CODE HERE\n",
        "    pass\n",
        "Таким образом, полученные пары (e,n) и (d,n) являются открытым и закрытым ключами соответственно.\n"
      ]
    },
    {
      "cell_type": "code",
      "metadata": {
        "colab": {
          "base_uri": "https://localhost:8080/",
          "height": 231
        },
        "id": "mkNIjppdrcTp",
        "outputId": "3ae3bd66-b8cb-4ce0-f044-2850eb3f6c61"
      },
      "source": [
        "import math\n",
        "import random\n",
        "\n",
        "def is_prime(n):\n",
        "  if n == 2 or n == 3: return True\n",
        "  if n < 2 or n%2 == 0: return False\n",
        "  if n < 9: return True\n",
        "  if n%3 == 0: return False\n",
        "  r = int(n**0.5)\n",
        "  # since all primes > 3 are of the form 6n ± 1\n",
        "  # start with f=5 (which is prime)\n",
        "  # and test f, f+2 for being prime\n",
        "  # then loop by 6. \n",
        "  f = 5\n",
        "  while f <= r:\n",
        "    print('\\t',f)\n",
        "    if n % f == 0: return False\n",
        "    if n % (f+2) == 0: return False\n",
        "    f += 6\n",
        "  return True   \n",
        "\n",
        "def generate_keypair(p,q):\n",
        "  if not (is_prime(p) and is_prime(q)):\n",
        "    raise ValueError('Both numbers must be prime')\n",
        "  elif p==q:\n",
        "    raise ValueError('p and q cannot be equal')\n",
        "  else:\n",
        "    return n==p*q\n",
        "\n",
        "def eiler(p,q):\n",
        "  return phi==(p-1)*(q-1)\n",
        "\n",
        "e = random.randrange(1, phi)\n",
        "g = gcd(e, eiler(p,q))\n",
        "while g != 1:\n",
        "  e = random.randrange(1, eiler(p,q))\n",
        "  g = gcd(e, eiler(p,q))\n",
        "\n",
        "\n",
        "\n",
        "\n",
        "\n",
        "\n",
        "\n",
        "    \n",
        "\n",
        "\n",
        " \n",
        "  "
      ],
      "execution_count": null,
      "outputs": [
        {
          "output_type": "error",
          "ename": "NameError",
          "evalue": "ignored",
          "traceback": [
            "\u001b[0;31m---------------------------------------------------------------------------\u001b[0m",
            "\u001b[0;31mNameError\u001b[0m                                 Traceback (most recent call last)",
            "\u001b[0;32m<ipython-input-6-00211cc6bb0d>\u001b[0m in \u001b[0;36m<module>\u001b[0;34m()\u001b[0m\n\u001b[1;32m     31\u001b[0m   \u001b[0;32mreturn\u001b[0m \u001b[0mphi\u001b[0m\u001b[0;34m==\u001b[0m\u001b[0;34m(\u001b[0m\u001b[0mp\u001b[0m\u001b[0;34m-\u001b[0m\u001b[0;36m1\u001b[0m\u001b[0;34m)\u001b[0m\u001b[0;34m*\u001b[0m\u001b[0;34m(\u001b[0m\u001b[0mq\u001b[0m\u001b[0;34m-\u001b[0m\u001b[0;36m1\u001b[0m\u001b[0;34m)\u001b[0m\u001b[0;34m\u001b[0m\u001b[0;34m\u001b[0m\u001b[0m\n\u001b[1;32m     32\u001b[0m \u001b[0;34m\u001b[0m\u001b[0m\n\u001b[0;32m---> 33\u001b[0;31m \u001b[0me\u001b[0m \u001b[0;34m=\u001b[0m \u001b[0mrandom\u001b[0m\u001b[0;34m.\u001b[0m\u001b[0mrandrange\u001b[0m\u001b[0;34m(\u001b[0m\u001b[0;36m1\u001b[0m\u001b[0;34m,\u001b[0m \u001b[0mphi\u001b[0m\u001b[0;34m)\u001b[0m\u001b[0;34m\u001b[0m\u001b[0;34m\u001b[0m\u001b[0m\n\u001b[0m\u001b[1;32m     34\u001b[0m \u001b[0mg\u001b[0m \u001b[0;34m=\u001b[0m \u001b[0mgcd\u001b[0m\u001b[0;34m(\u001b[0m\u001b[0me\u001b[0m\u001b[0;34m,\u001b[0m \u001b[0meiler\u001b[0m\u001b[0;34m(\u001b[0m\u001b[0mp\u001b[0m\u001b[0;34m,\u001b[0m\u001b[0mq\u001b[0m\u001b[0;34m)\u001b[0m\u001b[0;34m)\u001b[0m\u001b[0;34m\u001b[0m\u001b[0;34m\u001b[0m\u001b[0m\n\u001b[1;32m     35\u001b[0m \u001b[0;32mwhile\u001b[0m \u001b[0mg\u001b[0m \u001b[0;34m!=\u001b[0m \u001b[0;36m1\u001b[0m\u001b[0;34m:\u001b[0m\u001b[0;34m\u001b[0m\u001b[0;34m\u001b[0m\u001b[0m\n",
            "\u001b[0;31mNameError\u001b[0m: name 'phi' is not defined"
          ]
        }
      ]
    },
    {
      "cell_type": "markdown",
      "metadata": {
        "id": "5sXEkKL4X7Q7"
      },
      "source": [
        "Тест пример RSA\n"
      ]
    },
    {
      "cell_type": "code",
      "metadata": {
        "id": "BCJ6GvRlZCfS"
      },
      "source": [
        "import random\n",
        "import unittest\n",
        "\n",
        "import rsa\n",
        "\n",
        "random.seed(1234567)\n",
        "\n",
        "\n",
        "class RSATestCase(unittest.TestCase):\n",
        "    def test_is_prime(self):\n",
        "        self.assertFalse(rsa.is_prime(1))\n",
        "        self.assertTrue(rsa.is_prime(2))\n",
        "        self.assertTrue(rsa.is_prime(3))\n",
        "        self.assertFalse(rsa.is_prime(4))\n",
        "        self.assertTrue(rsa.is_prime(5))\n",
        "        self.assertFalse(rsa.is_prime(6))\n",
        "        self.assertTrue(rsa.is_prime(7))\n",
        "        self.assertFalse(rsa.is_prime(8))\n",
        "        self.assertTrue(rsa.is_prime(3571))\n",
        "\n",
        "    def test_gcd(self):\n",
        "        self.assertEqual(0, rsa.gcd(0, 0))\n",
        "        self.assertEqual(1, rsa.gcd(3, 7))\n",
        "        self.assertEqual(3, rsa.gcd(12, 15))\n",
        "        self.assertEqual(9, rsa.gcd(0, 9))\n",
        "        self.assertEqual(12, rsa.gcd(12, 0))\n",
        "        self.assertEqual(14, rsa.gcd(42, 56))\n",
        "        self.assertEqual(18, rsa.gcd(461952, 116298))\n",
        "        self.assertEqual(32, rsa.gcd(7966496, 314080416))\n",
        "        self.assertEqual(526, rsa.gcd(24826148, 45296490))\n",
        "\n",
        "    def test_multiplicative_inverse(self):\n",
        "        self.assertEqual(23, rsa.multiplicative_inverse(7, 40))\n",
        "        self.assertEqual(1969, rsa.multiplicative_inverse(42, 2017))\n",
        "        self.assertEqual(0, rsa.multiplicative_inverse(40, 1))\n",
        "\n",
        "    def test_generate_keypair(self):\n",
        "        self.assertEqual(((103, 323), (151, 323)), rsa.generate_keypair(17, 19))\n",
        "        self.assertEqual(((194389, 1697249), (324589, 1697249)), rsa.generate_keypair(1229, 1381))\n",
        "        self.assertEqual(\n",
        "            ((8799823, 11188147), (5490847, 11188147)), rsa.generate_keypair(3259, 3433)\n",
        "        )"
      ],
      "execution_count": null,
      "outputs": []
    },
    {
      "cell_type": "markdown",
      "metadata": {
        "id": "SaepcW9sbBwV"
      },
      "source": [
        "**ШАБЛОН ДЛЯ ВЫПОЛНЕНИЯ ДОП ЗАДАНИЯ К ЛАБ 1**"
      ]
    },
    {
      "cell_type": "code",
      "metadata": {
        "id": "LemmoNQYX8ES"
      },
      "source": [
        "import random\n",
        "import typing as tp\n",
        "from math import gcd as bltin_gcd\n",
        "\n",
        "\n",
        "def is_prime(n):\n",
        "  if n == 2 or n == 3: return True\n",
        "  if n < 2 or n%2 == 0: return False\n",
        "  if n < 9: return True\n",
        "  if n%3 == 0: return False\n",
        "  r = int(n**0.5)\n",
        "  # since all primes > 3 are of the form 6n ± 1\n",
        "  # start with f=5 (which is prime)\n",
        "  # and test f, f+2 for being prime\n",
        "  # then loop by 6. \n",
        "  f = 5\n",
        "  while f <= r:\n",
        "    print('\\t',f)\n",
        "    if n % f == 0: return False\n",
        "    if n % (f+2) == 0: return False\n",
        "    f += 6\n",
        "  return True   \n",
        "\n",
        "def gcd(a: int, b: int) -> int:\n",
        "    return bltin_gcd(a, b) == 1\n",
        "\n",
        "\n",
        "def multiplicative_inverse(e: int, phi: int) -> int:\n",
        "\n",
        "\n",
        "\n",
        "\n",
        "def generate_keypair(p: int, q: int) -> tp.Tuple[tp.Tuple[int, int], tp.Tuple[int, int]]:\n",
        "    if not (is_prime(p) and is_prime(q)):\n",
        "        raise ValueError(\"Both numbers must be prime.\")\n",
        "    elif p == q:\n",
        "        raise ValueError(\"p and q cannot be equal\")\n",
        "\n",
        "    # n = pq\n",
        "    # PUT YOUR CODE HERE\n",
        "\n",
        "    # phi = (p-1)(q-1)\n",
        "    # PUT YOUR CODE HERE\n",
        "\n",
        "    # Choose an integer e such that e and phi(n) are coprime\n",
        "    e = random.randrange(1, phi)\n",
        "\n",
        "    # Use Euclid's Algorithm to verify that e and phi(n) are coprime\n",
        "    g = gcd(e, phi)\n",
        "    while g != 1:\n",
        "        e = random.randrange(1, phi)\n",
        "        g = gcd(e, phi)\n",
        "\n",
        "    # Use Extended Euclid's Algorithm to generate the private key\n",
        "    d = multiplicative_inverse(e, phi)\n",
        "\n",
        "    # Return public and private keypair\n",
        "    # Public key is (e, n) and private key is (d, n)\n",
        "    return ((e, n), (d, n))\n",
        "\n",
        "\n",
        "def encrypt(pk: tp.Tuple[int, int], plaintext: str) -> tp.List[int]:\n",
        "    # Unpack the key into it's components\n",
        "    key, n = pk\n",
        "    # Convert each letter in the plaintext to numbers based on\n",
        "    # the character using a^b mod m\n",
        "    cipher = [(ord(char) ** key) % n for char in plaintext]\n",
        "    # Return the array of bytes\n",
        "    return cipher\n",
        "\n",
        "\n",
        "def decrypt(pk: tp.Tuple[int, int], ciphertext: tp.List[int]) -> str:\n",
        "    # Unpack the key into its components\n",
        "    key, n = pk\n",
        "    # Generate the plaintext based on the ciphertext and key using a^b mod m\n",
        "    plain = [chr((char ** key) % n) for char in ciphertext]\n",
        "    # Return the array of bytes as a string\n",
        "    return \"\".join(plain)\n",
        "\n",
        "\n",
        "if __name__ == \"__main__\":\n",
        "    print(\"RSA Encrypter/ Decrypter\")\n",
        "    p = int(input(\"Enter a prime number (17, 19, 23, etc): \"))\n",
        "    q = int(input(\"Enter another prime number (Not one you entered above): \"))\n",
        "    print(\"Generating your public/private keypairs now . . .\")\n",
        "    public, private = generate_keypair(p, q)\n",
        "    print(\"Your public key is \", public, \" and your private key is \", private)\n",
        "    message = input(\"Enter a message to encrypt with your private key: \")\n",
        "    encrypted_msg = encrypt(private, message)\n",
        "    print(\"Your encrypted message is: \")\n",
        "    print(\"\".join(map(lambda x: str(x), encrypted_msg)))\n",
        "    print(\"Decrypting message with public key \", public, \" . . .\")\n",
        "    print(\"Your message is:\")\n",
        "    print(decrypt(public, encrypted_msg))"
      ],
      "execution_count": null,
      "outputs": []
    }
  ]
}