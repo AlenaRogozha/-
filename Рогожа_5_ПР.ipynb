{
  "nbformat": 4,
  "nbformat_minor": 0,
  "metadata": {
    "colab": {
      "name": "Рогожа 5 ПР",
      "provenance": [],
      "collapsed_sections": []
    },
    "kernelspec": {
      "name": "python3",
      "display_name": "Python 3"
    }
  },
  "cells": [
    {
      "cell_type": "markdown",
      "metadata": {
        "id": "kaNyKYHsj5Vn"
      },
      "source": [
        "# Разработка проекта Blockchain"
      ]
    },
    {
      "cell_type": "markdown",
      "metadata": {
        "id": "sLN6X8EjkOQH"
      },
      "source": [
        "1. Для разработки проекта нам потребуется импортировать следующие библиотеки Python: "
      ]
    },
    {
      "cell_type": "code",
      "metadata": {
        "id": "lZx0rHeLjsgj"
      },
      "source": [
        "# Ваш код\n",
        "import hashlib\n",
        "import random\n",
        "import json\n",
        "import binascii\n",
        "import pandas as pd\n",
        "import numpy as np\n",
        "import pylab as pl\n",
        "import logging \n",
        "import datetime\n",
        "import collections"
      ],
      "execution_count": null,
      "outputs": []
    },
    {
      "cell_type": "markdown",
      "metadata": {
        "id": "KJuoRZ_SkhI7"
      },
      "source": [
        "2. В дополнение к указанным выше стандартным библиотекам мы собираемся подписать наши транзакции, создать хэш объектов. Для этого вам потребуется импортировать следующие библиотеки:"
      ]
    },
    {
      "cell_type": "code",
      "metadata": {
        "id": "AeieyiS0nD-p",
        "colab": {
          "base_uri": "https://localhost:8080/"
        },
        "outputId": "d893a804-e308-47ba-bda8-3d6639733d07"
      },
      "source": [
        "!pip install crypto"
      ],
      "execution_count": null,
      "outputs": [
        {
          "output_type": "stream",
          "text": [
            "Collecting crypto\n",
            "  Downloading https://files.pythonhosted.org/packages/fc/bb/0b812dc02e6357606228edfbf5808f5ca0a675a84273578c3a199e841cd8/crypto-1.4.1-py2.py3-none-any.whl\n",
            "Collecting shellescape\n",
            "  Downloading https://files.pythonhosted.org/packages/d0/f4/0081137fceff5779cd4205c1e96657e41cc2d2d56c940dc8eeb6111780f7/shellescape-3.8.1-py2.py3-none-any.whl\n",
            "Collecting Naked\n",
            "\u001b[?25l  Downloading https://files.pythonhosted.org/packages/02/36/b8107b51adca73402ec1860d88f41d958e275e60eea6eeaa9c39ddb89a40/Naked-0.1.31-py2.py3-none-any.whl (590kB)\n",
            "\u001b[K     |████████████████████████████████| 593kB 5.7MB/s \n",
            "\u001b[?25hRequirement already satisfied: requests in /usr/local/lib/python3.7/dist-packages (from Naked->crypto) (2.23.0)\n",
            "Requirement already satisfied: pyyaml in /usr/local/lib/python3.7/dist-packages (from Naked->crypto) (3.13)\n",
            "Requirement already satisfied: idna<3,>=2.5 in /usr/local/lib/python3.7/dist-packages (from requests->Naked->crypto) (2.10)\n",
            "Requirement already satisfied: certifi>=2017.4.17 in /usr/local/lib/python3.7/dist-packages (from requests->Naked->crypto) (2020.12.5)\n",
            "Requirement already satisfied: chardet<4,>=3.0.2 in /usr/local/lib/python3.7/dist-packages (from requests->Naked->crypto) (3.0.4)\n",
            "Requirement already satisfied: urllib3!=1.25.0,!=1.25.1,<1.26,>=1.21.1 in /usr/local/lib/python3.7/dist-packages (from requests->Naked->crypto) (1.24.3)\n",
            "Installing collected packages: shellescape, Naked, crypto\n",
            "Successfully installed Naked-0.1.31 crypto-1.4.1 shellescape-3.8.1\n"
          ],
          "name": "stdout"
        }
      ]
    },
    {
      "cell_type": "code",
      "metadata": {
        "id": "Tz7zuGFenT2g",
        "colab": {
          "base_uri": "https://localhost:8080/"
        },
        "outputId": "cfb5650f-3172-4561-bce3-381c0f9d934a"
      },
      "source": [
        "!pip install pycrypto"
      ],
      "execution_count": null,
      "outputs": [
        {
          "output_type": "stream",
          "text": [
            "Collecting pycrypto\n",
            "\u001b[?25l  Downloading https://files.pythonhosted.org/packages/60/db/645aa9af249f059cc3a368b118de33889219e0362141e75d4eaf6f80f163/pycrypto-2.6.1.tar.gz (446kB)\n",
            "\r\u001b[K     |▊                               | 10kB 10.1MB/s eta 0:00:01\r\u001b[K     |█▌                              | 20kB 12.2MB/s eta 0:00:01\r\u001b[K     |██▏                             | 30kB 7.7MB/s eta 0:00:01\r\u001b[K     |███                             | 40kB 7.1MB/s eta 0:00:01\r\u001b[K     |███▊                            | 51kB 4.2MB/s eta 0:00:01\r\u001b[K     |████▍                           | 61kB 4.8MB/s eta 0:00:01\r\u001b[K     |█████▏                          | 71kB 4.8MB/s eta 0:00:01\r\u001b[K     |█████▉                          | 81kB 5.2MB/s eta 0:00:01\r\u001b[K     |██████▋                         | 92kB 5.3MB/s eta 0:00:01\r\u001b[K     |███████▍                        | 102kB 5.4MB/s eta 0:00:01\r\u001b[K     |████████                        | 112kB 5.4MB/s eta 0:00:01\r\u001b[K     |████████▉                       | 122kB 5.4MB/s eta 0:00:01\r\u001b[K     |█████████▌                      | 133kB 5.4MB/s eta 0:00:01\r\u001b[K     |██████████▎                     | 143kB 5.4MB/s eta 0:00:01\r\u001b[K     |███████████                     | 153kB 5.4MB/s eta 0:00:01\r\u001b[K     |███████████▊                    | 163kB 5.4MB/s eta 0:00:01\r\u001b[K     |████████████▌                   | 174kB 5.4MB/s eta 0:00:01\r\u001b[K     |█████████████▏                  | 184kB 5.4MB/s eta 0:00:01\r\u001b[K     |██████████████                  | 194kB 5.4MB/s eta 0:00:01\r\u001b[K     |██████████████▊                 | 204kB 5.4MB/s eta 0:00:01\r\u001b[K     |███████████████▍                | 215kB 5.4MB/s eta 0:00:01\r\u001b[K     |████████████████▏               | 225kB 5.4MB/s eta 0:00:01\r\u001b[K     |█████████████████               | 235kB 5.4MB/s eta 0:00:01\r\u001b[K     |█████████████████▋              | 245kB 5.4MB/s eta 0:00:01\r\u001b[K     |██████████████████▍             | 256kB 5.4MB/s eta 0:00:01\r\u001b[K     |███████████████████             | 266kB 5.4MB/s eta 0:00:01\r\u001b[K     |███████████████████▉            | 276kB 5.4MB/s eta 0:00:01\r\u001b[K     |████████████████████▋           | 286kB 5.4MB/s eta 0:00:01\r\u001b[K     |█████████████████████▎          | 296kB 5.4MB/s eta 0:00:01\r\u001b[K     |██████████████████████          | 307kB 5.4MB/s eta 0:00:01\r\u001b[K     |██████████████████████▊         | 317kB 5.4MB/s eta 0:00:01\r\u001b[K     |███████████████████████▌        | 327kB 5.4MB/s eta 0:00:01\r\u001b[K     |████████████████████████▎       | 337kB 5.4MB/s eta 0:00:01\r\u001b[K     |█████████████████████████       | 348kB 5.4MB/s eta 0:00:01\r\u001b[K     |█████████████████████████▊      | 358kB 5.4MB/s eta 0:00:01\r\u001b[K     |██████████████████████████▍     | 368kB 5.4MB/s eta 0:00:01\r\u001b[K     |███████████████████████████▏    | 378kB 5.4MB/s eta 0:00:01\r\u001b[K     |████████████████████████████    | 389kB 5.4MB/s eta 0:00:01\r\u001b[K     |████████████████████████████▋   | 399kB 5.4MB/s eta 0:00:01\r\u001b[K     |█████████████████████████████▍  | 409kB 5.4MB/s eta 0:00:01\r\u001b[K     |██████████████████████████████  | 419kB 5.4MB/s eta 0:00:01\r\u001b[K     |██████████████████████████████▉ | 430kB 5.4MB/s eta 0:00:01\r\u001b[K     |███████████████████████████████▋| 440kB 5.4MB/s eta 0:00:01\r\u001b[K     |████████████████████████████████| 450kB 5.4MB/s \n",
            "\u001b[?25hBuilding wheels for collected packages: pycrypto\n",
            "  Building wheel for pycrypto (setup.py) ... \u001b[?25l\u001b[?25hdone\n",
            "  Created wheel for pycrypto: filename=pycrypto-2.6.1-cp37-cp37m-linux_x86_64.whl size=499931 sha256=983257721e25690fc0bedd6d185f3c799cbfec1af91f551ce9113888d0680e6d\n",
            "  Stored in directory: /root/.cache/pip/wheels/27/02/5e/77a69d0c16bb63c6ed32f5386f33a2809c94bd5414a2f6c196\n",
            "Successfully built pycrypto\n",
            "Installing collected packages: pycrypto\n",
            "Successfully installed pycrypto-2.6.1\n"
          ],
          "name": "stdout"
        }
      ]
    },
    {
      "cell_type": "code",
      "metadata": {
        "id": "7oyzmuxZlAh4"
      },
      "source": [
        " # Ваш код\n",
        "import Crypto\n",
        "from Crypto.Hash import SHA\n",
        "from Crypto.PublicKey import RSA\n",
        "from Crypto.Signature import PKCS1_v1_5"
      ],
      "execution_count": null,
      "outputs": []
    },
    {
      "cell_type": "markdown",
      "metadata": {
        "id": "11nJSPImwax5"
      },
      "source": [
        "класс **Block**\n",
        "\n"
      ]
    },
    {
      "cell_type": "markdown",
      "metadata": {
        "id": "w-ONPMDrwdgE"
      },
      "source": [
        "Будем предполагать, что блок состоит из фиксированного числа транзакций, которое в данном случае равно трем. Поскольку блок должен хранить список этих трех транзакций, мы объявим переменную экземпляра под названием **verify_transactions** следующим образом:\n",
        "\n",
        "self.verified_transactions = []\n",
        "\n",
        "Мы назвали эту переменную как **Verified_transactions**, чтобы указать, что только проверенные действительные транзакции будут добавлены в блок. Каждый блок также содержит хэш-значение предыдущего блока, поэтому цепочка блоков становится неизменной.\n",
        "\n",
        "Чтобы сохранить предыдущий хеш, мы объявляем переменную экземпляра следующим образом:\n",
        "\n",
        "self.previous_block_hash = \"\"\n",
        "\n",
        "**Nonce** для хранения одноразовых номеров, созданных майнером в процессе майнинга.\n",
        "\n",
        "self.Nonce = \"\"\n",
        "\n",
        "Полное определение класса **Block** приведено ниже:"
      ]
    },
    {
      "cell_type": "code",
      "metadata": {
        "id": "Y5I4wYpss1n8"
      },
      "source": [
        "# Ваш код\n",
        "class Block:\n",
        "  def _init_(self):\n",
        "    self.verifield_transaction=[]\n",
        "    self.previous_block_hasg=\"\"\n",
        "    self.Nonce=\"\""
      ],
      "execution_count": null,
      "outputs": []
    },
    {
      "cell_type": "markdown",
      "metadata": {
        "id": "L-R_LRKJyCb7"
      },
      "source": [
        "Поскольку каждому блоку требуется значение хеша предыдущего блока, мы объявляем глобальную переменную с именем **last_block_hash** следующим образом:"
      ]
    },
    {
      "cell_type": "code",
      "metadata": {
        "id": "pu9-1diswG93"
      },
      "source": [
        "last_block_hash = \"\""
      ],
      "execution_count": null,
      "outputs": []
    },
    {
      "cell_type": "markdown",
      "metadata": {
        "id": "THViQNUHw-yY"
      },
      "source": [
        "Класс **Client**"
      ]
    },
    {
      "cell_type": "code",
      "metadata": {
        "id": "tZrXxf6rq14C"
      },
      "source": [
        "# Ваш код\n",
        "class Client:\n",
        "  def __init__(self):\n",
        "    random = Crypto.Random.new().read\n",
        "    self._private_key=RSA.generate(1024,random) #закрытый\n",
        "    self._public_key = self._private_key.publickey()#открытый который от закрытого берется\n",
        "    self._signer = PKCS1_v1_5.new(self._private_key)\n",
        "\n",
        "  @property\n",
        "  def identity(self):\n",
        "    return binascii.hexlify(self._public_key.exportKey(format='DER')).decode('ascii')"
      ],
      "execution_count": null,
      "outputs": []
    },
    {
      "cell_type": "markdown",
      "metadata": {
        "id": "C-zzod9Sshkj"
      },
      "source": [
        "Клиент тестирования"
      ]
    },
    {
      "cell_type": "code",
      "metadata": {
        "id": "H_JBKU4msi8e",
        "colab": {
          "base_uri": "https://localhost:8080/"
        },
        "outputId": "60e1e5a1-990b-47ec-97c6-9f8b78514634"
      },
      "source": [
        "Dinesh = Client()\n",
        "print (Dinesh.identity)"
      ],
      "execution_count": null,
      "outputs": [
        {
          "output_type": "stream",
          "text": [
            "30819f300d06092a864886f70d010101050003818d0030818902818100d380d24db0398bd6563be17d4b276fe4754c5df34fca241d7835ac761ec33fd9f1dac1e85b19d74fe6e75385a965eaed08339de96acce60c4f9ae77863ba858eb8b65e27d9dce72e767fcbbfe28324331f93132d8b9a5f38e7fe045ae9b6f6c28194123e0f4784a50fe18e1db60f97f240f3718344ad5b0704cc3109b17145a10203010001\n"
          ],
          "name": "stdout"
        }
      ]
    },
    {
      "cell_type": "markdown",
      "metadata": {
        "id": "gEyzdTS1abpr"
      },
      "source": [
        "# Транзакции между клиентами"
      ]
    },
    {
      "cell_type": "markdown",
      "metadata": {
        "id": "vqWit9gDw5vw"
      },
      "source": [
        "Класс **Transaction**"
      ]
    },
    {
      "cell_type": "markdown",
      "metadata": {
        "id": "BIG55m3iRKAW"
      },
      "source": [
        "создадим класс Transaction, чтобы клиент мог кому-то отправлять деньги. Обратите внимание, что клиент может быть как отправителем, так и получателем денег. Когда вы хотите получить деньги, другой отправитель создаст транзакцию и укажет в ней ваш публичный адрес."
      ]
    },
    {
      "cell_type": "markdown",
      "metadata": {
        "id": "-T5_AUoMpFeH"
      },
      "source": [
        "3. Инициализация класса транзакции:"
      ]
    },
    {
      "cell_type": "code",
      "metadata": {
        "id": "FJHfzJ7opENY"
      },
      "source": [
        "# Ваш код\n",
        "class Transaction:\n",
        "  def __init__(self, sender, recipient, value):\n",
        "    self.sender=sender\n",
        "    self.recipient=recipient\n",
        "    self.value=value\n",
        "    self.time=datetime.datetime.now()\n",
        "\n",
        "  def to_dict(self):\n",
        "    if self.sender==\"Genesis\":\n",
        "      identity=\"Genesis\"\n",
        "    else:\n",
        "      identity=self.sender.identity\n",
        "    return collections.OrderedDict({\n",
        "      'sender':identity,\n",
        "      'recipient':self.recipient,\n",
        "      'value':self.value,\n",
        "      'time': self.time})\n",
        "\n",
        "  def sign_transaction(self):\n",
        "    private_key=self.sender._private_key\n",
        "    signer=PKCS1_v1_5.new(private_key)\n",
        "    h=SHA.new(str(self.to_dict()).encode('utf8'))\n",
        "    return binascii.hexlify(signer.sign(h)).decode('ascii')\n"
      ],
      "execution_count": null,
      "outputs": []
    },
    {
      "cell_type": "markdown",
      "metadata": {
        "id": "WOBKOcbnRU0a"
      },
      "source": [
        "Метод init принимает три параметра — **открытый ключ** отправителя, **открытый ключ** получателя и **отправляемую сумму**. Они хранятся в переменных экземпляра для использования другими методами. Кроме того, мы создаем еще одну переменную для хранения **времени транзакции**."
      ]
    },
    {
      "cell_type": "markdown",
      "metadata": {
        "id": "YPZFdlyoYlc7"
      },
      "source": [
        "**Класс тестовой транзакции**"
      ]
    },
    {
      "cell_type": "markdown",
      "metadata": {
        "id": "l5dv9k0QYqPp"
      },
      "source": [
        "Для этого мы создадим двух пользователей, называемых Динеш и Рамеш . Динеш отправит 5 TPCoins Рамешу. Для этого сначала мы создаем клиентов с именами Dinesh и Ramesh."
      ]
    },
    {
      "cell_type": "code",
      "metadata": {
        "id": "9thc-YbbYtwq"
      },
      "source": [
        "Dinesh = Client()\n",
        "Ramesh = Client()"
      ],
      "execution_count": null,
      "outputs": []
    },
    {
      "cell_type": "markdown",
      "metadata": {
        "id": "b0NALbJRYxIE"
      },
      "source": [
        "при создании экземпляра класса Client будут созданы открытый и закрытый ключи, уникальные для клиента. Поскольку Динеш отправляет платеж Рамешу, ему понадобится открытый ключ Рамеша, полученный с помощью свойства идентификатора клиента.\n",
        "\n",
        "Таким образом, мы создадим экземпляр транзакции, используя следующий код "
      ]
    },
    {
      "cell_type": "code",
      "metadata": {
        "id": "YfarjMwfY20E"
      },
      "source": [
        "t = Transaction(\n",
        "   Dinesh,\n",
        "   Ramesh.identity,\n",
        "   5.0\n",
        ")"
      ],
      "execution_count": null,
      "outputs": []
    },
    {
      "cell_type": "markdown",
      "metadata": {
        "id": "viitzBV8Y9-g"
      },
      "source": [
        "первым параметром является отправитель, вторым параметром является открытый ключ получателя, а третьим параметром является сумма, подлежащая передаче. Метод sign_transaction извлекает закрытый ключ отправителя из первого параметра для подписания транзакции."
      ]
    },
    {
      "cell_type": "markdown",
      "metadata": {
        "id": "jXshKz1vZBZr"
      },
      "source": [
        "После создания объекта транзакции вы подпишите его, вызвав его метод sign_transaction . Этот метод возвращает сгенерированную подпись в формате для печати. Мы генерируем и печатаем подпись, используя следующие две строки кода:"
      ]
    },
    {
      "cell_type": "code",
      "metadata": {
        "id": "Y5w4vf2nZEGX",
        "colab": {
          "base_uri": "https://localhost:8080/"
        },
        "outputId": "e17d80ed-a4ff-4cf8-e5c6-f82d1ff73b0d"
      },
      "source": [
        "signature = t.sign_transaction()\n",
        "print (signature) "
      ],
      "execution_count": null,
      "outputs": [
        {
          "output_type": "stream",
          "text": [
            "13554940463588f3ea0e551cd21749ca2fb82c9acd76b276e7c92fc8c85126f672796b8f10839f29e52225ae809b2ea61540e8b5fad257478e7cfa72485c9859a19e39b7f85287dd9a20c9a430296db46083204be889b64a8b945fabd6543523fa947a75dac9ccdcce50f181044668feaebd3dd9319ba2b2c0d2e839b10c32a7\n"
          ],
          "name": "stdout"
        }
      ]
    },
    {
      "cell_type": "markdown",
      "metadata": {
        "id": "P5bezTuBZNLx"
      },
      "source": [
        " базовая инфраструктура создания клиента и транзакции готова, у нас теперь будет несколько клиентов, выполняющих несколько транзакций, как в реальной жизни."
      ]
    },
    {
      "cell_type": "markdown",
      "metadata": {
        "id": "Psb6mChxZm06"
      },
      "source": [
        "# Создание блока Genesis"
      ]
    },
    {
      "cell_type": "markdown",
      "metadata": {
        "id": "PYQ-R0TESp0x"
      },
      "source": [
        "Мы предполагаем, что создатель TPCoins изначально выдает 500 TPCoins известному клиенту Dinesh . Для этого он сначала создает экземпляр Dinesh "
      ]
    },
    {
      "cell_type": "code",
      "metadata": {
        "id": "j88Wd797qWgy"
      },
      "source": [
        "Dinesh = Client()"
      ],
      "execution_count": null,
      "outputs": []
    },
    {
      "cell_type": "code",
      "metadata": {
        "id": "I_K3MXLVrRTc"
      },
      "source": [
        "t0 = Transaction (\n",
        "   \"Genesis\",\n",
        "   Dinesh.identity,\n",
        "   500.0\n",
        ")"
      ],
      "execution_count": null,
      "outputs": []
    },
    {
      "cell_type": "markdown",
      "metadata": {
        "id": "wOHcQPcdS-Nx"
      },
      "source": [
        "Теперь мы создаем экземпляр класса Block и называем его block0 ."
      ]
    },
    {
      "cell_type": "code",
      "metadata": {
        "id": "7Bt52MgxS_Z6"
      },
      "source": [
        "block0 = Block()"
      ],
      "execution_count": null,
      "outputs": []
    },
    {
      "cell_type": "markdown",
      "metadata": {
        "id": "wiBysZlaTVHJ"
      },
      "source": [
        "На этом этапе блок полностью инициализирован и готов к добавлению в нашу цепочку блоков. Мы будем создавать блокчейн для этой цели. Перед тем, как добавить блок в цепочку блоков, мы хешируем блок и сохраняем его значение в глобальной переменной last_block_hash, которую мы объявили ранее. Это значение будет использовано следующим майнером в его блоке.\n",
        "\n",
        "Мы используем следующие две строки кода для хеширования блока и сохранения значения дайджеста."
      ]
    },
    {
      "cell_type": "code",
      "metadata": {
        "id": "rjrwCpJWTWvH"
      },
      "source": [
        "digest = hash (block0)\n",
        "last_block_hash = digest"
      ],
      "execution_count": null,
      "outputs": []
    },
    {
      "cell_type": "markdown",
      "metadata": {
        "id": "eORT0quSTF5o"
      },
      "source": [
        "Мы инициализируем переменные экземпляра previous_block_hash и Nonce как None , поскольку это самая первая транзакция, которая будет сохранена в нашей цепочке блоков."
      ]
    },
    {
      "cell_type": "code",
      "metadata": {
        "id": "23zkBFqNTE1l"
      },
      "source": [
        "block0.previous_block_hash = None\n",
        "Nonce = None"
      ],
      "execution_count": null,
      "outputs": []
    },
    {
      "cell_type": "markdown",
      "metadata": {
        "id": "qb6UwiKSTFGQ"
      },
      "source": [
        "Далее мы добавим вышеупомянутую транзакцию t0 в список Verified_transactions, поддерживаемый в блоке"
      ]
    },
    {
      "cell_type": "code",
      "metadata": {
        "id": "wQ1z9B1PTMiG"
      },
      "source": [
        "block0.verified_transactions.append (t0)"
      ],
      "execution_count": null,
      "outputs": []
    },
    {
      "cell_type": "markdown",
      "metadata": {
        "id": "bCIduUiEa2_w"
      },
      "source": [
        "# Создание нескольких транзакций"
      ]
    },
    {
      "cell_type": "markdown",
      "metadata": {
        "id": "QK9kNP0Ca5Rm"
      },
      "source": [
        "Сделки, совершенные различными клиентами, ставятся в очередь в системе; \n",
        "\n",
        "майнеры забирают транзакции из этой очереди и добавляют их в блок. \n",
        "\n",
        "Затем они будут добывать блок, и победивший майнер получит привилегию добавить блок в цепочку блоков и тем самым заработать немного денег для себя."
      ]
    },
    {
      "cell_type": "markdown",
      "metadata": {
        "id": "bK31aBRabMnP"
      },
      "source": [
        "Добавим небольшую служебную функцию для печати содержимого данной транзакции."
      ]
    },
    {
      "cell_type": "markdown",
      "metadata": {
        "id": "nFdKhAKTbamb"
      },
      "source": [
        "1.   **Просмотр транзакции**"
      ]
    },
    {
      "cell_type": "markdown",
      "metadata": {
        "id": "-OsKJR7Lbmnb"
      },
      "source": [
        "Функция **display_transaction** принимает один параметр типа транзакции. Объект словаря в полученной транзакции копируется во временную переменную с именем **dict**, и с помощью ключей словаря различные значения выводятся на консоль."
      ]
    },
    {
      "cell_type": "code",
      "metadata": {
        "id": "q7lka4esbqQ2"
      },
      "source": [
        "# Ваш код"
      ],
      "execution_count": null,
      "outputs": []
    },
    {
      "cell_type": "markdown",
      "metadata": {
        "id": "AmoWsc1wb3eT"
      },
      "source": [
        "2.   **Очередь транзакций**\n"
      ]
    },
    {
      "cell_type": "markdown",
      "metadata": {
        "id": "NOqW8tg2b7Ua"
      },
      "source": [
        "Чтобы создать очередь, мы объявляем переменную глобального списка под названием транзакции следующим образом:"
      ]
    },
    {
      "cell_type": "code",
      "metadata": {
        "id": "oUijExGeb_sn"
      },
      "source": [
        "transactions = []"
      ],
      "execution_count": null,
      "outputs": []
    },
    {
      "cell_type": "markdown",
      "metadata": {
        "id": "aU4HEcERcCo8"
      },
      "source": [
        "3.   **Создание нескольких клиентов**"
      ]
    },
    {
      "cell_type": "markdown",
      "metadata": {
        "id": "wZe3rmrYcTd8"
      },
      "source": [
        "Теперь мы начнем создавать транзакции. Сначала мы создадим четырех клиентов, которые будут отправлять друг другу деньги для получения различных услуг или товаров от других."
      ]
    },
    {
      "cell_type": "code",
      "metadata": {
        "id": "00R0Eg-ocZmW"
      },
      "source": [
        "Dinesh = Client()\n",
        "Ramesh = Client()\n",
        "Seema = Client()\n",
        "Vijay = Client()"
      ],
      "execution_count": null,
      "outputs": []
    },
    {
      "cell_type": "markdown",
      "metadata": {
        "id": "1GPQQU7acdRZ"
      },
      "source": [
        "На данный момент у нас есть четыре клиента: **Динеш, Рамеш, Сима и Виджай**. В настоящее время мы предполагаем, что у каждого из этих клиентов есть несколько **TPCoin** в их кошельках для проведения транзакций. Идентификационные данные каждого из этих клиентов будут определены с помощью свойства **identity** этих объектов."
      ]
    },
    {
      "cell_type": "markdown",
      "metadata": {
        "id": "xw1z8I1Tcsbv"
      },
      "source": [
        "4.   **Создание первой транзакции**"
      ]
    },
    {
      "cell_type": "code",
      "metadata": {
        "id": "D--eM4fuc4YV"
      },
      "source": [
        "t1 = Transaction(\n",
        "   Dinesh,\n",
        "   Ramesh.identity,\n",
        "   15.0\n",
        ")"
      ],
      "execution_count": null,
      "outputs": []
    },
    {
      "cell_type": "markdown",
      "metadata": {
        "id": "97dqBEfudBzs"
      },
      "source": [
        "В этой транзакции Динеш отправляет 5 **TPCoins** Рамешу. Чтобы транзакция была успешной, мы должны убедиться, что у Динеша в кошельке достаточно денег для этого платежа. Обратите внимание, что нам потребуется транзакция генезиса, чтобы запустить циркуляцию **TPCoin** в системе. "
      ]
    },
    {
      "cell_type": "markdown",
      "metadata": {
        "id": "cFuJhbUUc6Fd"
      },
      "source": [
        "Мы подпишем эту транзакцию, используя закрытый ключ Динеша, и добавим ее в очередь транзакций следующим образом:"
      ]
    },
    {
      "cell_type": "code",
      "metadata": {
        "id": "DkPRkdzfdfCJ"
      },
      "source": [
        "t1.sign_transaction()\n",
        "transactions.append(t1)"
      ],
      "execution_count": null,
      "outputs": []
    },
    {
      "cell_type": "markdown",
      "metadata": {
        "id": "ddNq0nOUdhy8"
      },
      "source": [
        "5.   **Добавление дополнительных транзакций**"
      ]
    },
    {
      "cell_type": "markdown",
      "metadata": {
        "id": "AgSIqsD_dyOa"
      },
      "source": [
        "Теперь мы создадим еще несколько транзакций, каждая транзакция выдаст несколько TPCoins другой стороне. Когда кто-то тратит деньги, нет необходимости, чтобы он проверял наличие достаточных остатков в этом кошельке. В любом случае майнер будет проверять каждую транзакцию на баланс, который имеет отправитель при инициации транзакции."
      ]
    },
    {
      "cell_type": "markdown",
      "metadata": {
        "id": "H2VDvWCzd3n4"
      },
      "source": [
        "В случае недостаточного баланса майнер пометит эту транзакцию как недействительную и не добавит ее в этот блок.\n",
        "\n",
        "Следующий код создает и добавляет еще девять транзакций в нашу очередь."
      ]
    },
    {
      "cell_type": "code",
      "metadata": {
        "id": "N0Pr2FDgd4of"
      },
      "source": [
        "# Ваш код"
      ],
      "execution_count": null,
      "outputs": []
    },
    {
      "cell_type": "markdown",
      "metadata": {
        "id": "Ok68tNSjeAHK"
      },
      "source": [
        "Когда вы запустите приведенный выше код, у вас будет десять транзакций в очереди, чтобы майнеры могли создавать свои блоки."
      ]
    },
    {
      "cell_type": "markdown",
      "metadata": {
        "id": "f4XjwATjeHVX"
      },
      "source": [
        "6.   **Демпинг транзакций**"
      ]
    },
    {
      "cell_type": "markdown",
      "metadata": {
        "id": "aQUIumBWeQiJ"
      },
      "source": [
        "Как менеджер блокчейна, вы можете периодически просматривать содержимое очереди транзакций. Для этой цели вы можете использовать функцию **display_transaction**, которую мы разработали ранее. Чтобы сбросить все транзакции в очереди, просто выполните итерацию списка транзакций и для каждой указанной транзакции вызовите функцию **display_transaction**, как показано здесь:"
      ]
    },
    {
      "cell_type": "code",
      "metadata": {
        "id": "bmUcorZneWj8",
        "colab": {
          "base_uri": "https://localhost:8080/",
          "height": 196
        },
        "outputId": "d6c6cf08-485a-40cd-b102-354f01e54391"
      },
      "source": [
        "for transaction in transactions:\n",
        "   display_transaction (transaction)\n",
        "   print ('--------------')"
      ],
      "execution_count": null,
      "outputs": [
        {
          "output_type": "stream",
          "text": [
            "sender: 30819f300d06092a864886f70d010101050003818d0030818902818100d290540a8ea0ccd0675c1de6179c5d193907ef9bb17a3d1daaf39ade89fa1acc367ce73be6030ae6613de61f6798316eab73a977a2ae5b84fac5c7066c39436c05700e3fd282ed30c04a5cc71aade53beba4926fd1eabcf49a1049831f63ed7b19763a8da9aab7e57fb3b54e536ba2c06edce38eb09e59ccdc7ed812900370db0203010001\n",
            "-----\n",
            "recipient: 30819f300d06092a864886f70d010101050003818d0030818902818100be8d5bd9c12511d89eb1d0b7163ec3b392a5878cadb869164a5305f0ce979849272a2bc165109cd234b65f960654ae876cb2a5e6846fd09271a300fb551ef0d474be52f5501f8c34903a12a0ac039011af8435147695519bc6e4f1b67d0fa6f4a70337c9d7fad750e359d5bf84f491acd8e712b97576c2f716eed00d629fe3250203010001\n",
            "-----\n",
            "value: 15.0\n",
            "-----\n",
            "time: 2020-10-03 09:05:22.442746\n",
            "-----\n",
            "--------------\n"
          ],
          "name": "stdout"
        }
      ]
    },
    {
      "cell_type": "markdown",
      "metadata": {
        "id": "qSuQod7BeqwP"
      },
      "source": [
        "До сих пор вы узнали, как создавать клиентов, разрешать их между собой и поддерживать очередь ожидающих транзакций, которые должны быть добыты. Теперь самая важная  — это создание самой блокчейна."
      ]
    },
    {
      "cell_type": "markdown",
      "metadata": {
        "id": "ZToGY9BFyKTH"
      },
      "source": [
        "**Добавление первого блока**"
      ]
    },
    {
      "cell_type": "markdown",
      "metadata": {
        "id": "DangDmoAyNSC"
      },
      "source": [
        "Чтобы добавить новый блок, мы сначала создаем экземпляр класса **Block** ."
      ]
    },
    {
      "cell_type": "code",
      "metadata": {
        "id": "LsdmxA19yTbZ"
      },
      "source": [
        "block = Block()"
      ],
      "execution_count": null,
      "outputs": []
    },
    {
      "cell_type": "code",
      "metadata": {
        "id": "bOiKbP7vqfHG"
      },
      "source": [
        "t = Transaction(Dinesh, Ramesh.identity,5.0)"
      ],
      "execution_count": null,
      "outputs": []
    },
    {
      "cell_type": "code",
      "metadata": {
        "id": "U2E2Os34rDhu",
        "colab": {
          "base_uri": "https://localhost:8080/",
          "height": 54
        },
        "outputId": "04e13e0d-5cd0-44e5-ac13-bc6ed1d03ed6"
      },
      "source": [
        "Dinesh = Client()\n",
        "print (Dinesh.identity)"
      ],
      "execution_count": null,
      "outputs": [
        {
          "output_type": "stream",
          "text": [
            "30819f300d06092a864886f70d010101050003818d0030818902818100b7aad5ad38f51e0b98742714fb74af5a029f18e1d51c3b2cd60dae4dbd94b3a0c37e9af79bd4017dceb1194bc2adcb73441852d75726a558321190b54fec0de7bcdd8fc80d202044352eb90e28b02b77fa822cc17977a44e2f70c08f345b7600df9380aa28d08c52f830cdfcdefd3a6200ecbe72c019512bf75675cc2e33c2390203010001\n"
          ],
          "name": "stdout"
        }
      ]
    },
    {
      "cell_type": "markdown",
      "metadata": {
        "id": "yq-Zyn0ZfFwU"
      },
      "source": [
        "# **Создание блокчейна**"
      ]
    },
    {
      "cell_type": "markdown",
      "metadata": {
        "id": "_bd6ievBfMo0"
      },
      "source": [
        "Блокчейн содержит список блоков, связанных друг с другом. Чтобы сохранить весь список, мы создадим переменную списка с именем **TPCoins** "
      ]
    },
    {
      "cell_type": "code",
      "metadata": {
        "id": "-zsZaxBSfWUD"
      },
      "source": [
        "TPCoins = []"
      ],
      "execution_count": null,
      "outputs": []
    },
    {
      "cell_type": "markdown",
      "metadata": {
        "id": "dBbeeIHnfYe3"
      },
      "source": [
        "напишем служебный метод dump_blockchain для выгрузки содержимого всей цепочки блоков. Сначала мы печатаем длину блокчейна, чтобы узнать, сколько блоков в настоящий момент присутствует в блокчейне."
      ]
    },
    {
      "cell_type": "code",
      "metadata": {
        "id": "Qqw7MF-dffLT"
      },
      "source": [
        "def dump_blockchain (self):\n",
        "   print (\"Number of blocks in the chain: \" + str(len (self)))"
      ],
      "execution_count": null,
      "outputs": []
    },
    {
      "cell_type": "markdown",
      "metadata": {
        "id": "m1Tx09oNfh3d"
      },
      "source": [
        "с течением времени количество блоков в цепочке блоков будет чрезвычайно большим для печати. Таким образом, когда вы печатаете содержимое блокчейна, вам может потребоваться выбрать диапазон, который вы хотели бы изучить. В приведенном ниже коде мы напечатали весь блокчейн, так как мы не добавляем слишком много блоков в текущей демонстрации."
      ]
    },
    {
      "cell_type": "code",
      "metadata": {
        "id": "QFlCnunXfnMC"
      },
      "source": [
        "for x in range (len(TPCoins)):\n",
        "   block_temp = TPCoins[x]\n",
        "   print (\"block # \" + str(x))"
      ],
      "execution_count": null,
      "outputs": []
    },
    {
      "cell_type": "markdown",
      "metadata": {
        "id": "kp7mxNjifte3"
      },
      "source": [
        "Каждый указанный блок копируется во временную переменную с именем **block_temp**.\n",
        "\n",
        "Мы печатаем номер блока как заголовок для каждого блока. Обратите внимание, что числа будут начинаться с нуля, первый блок — это блок генеза, который нумеруется с нуля.\n",
        "\n",
        "В каждом блоке мы сохранили список из трех транзакций (за исключением блока генезиса) в переменной с именем Verified_transactions . Мы повторяем этот список в цикле for, и для каждого полученного элемента мы вызываем функцию display_transaction, чтобы отобразить детали транзакции."
      ]
    },
    {
      "cell_type": "code",
      "metadata": {
        "id": "vX7HVomygWcT"
      },
      "source": [
        "# Ваш код"
      ],
      "execution_count": null,
      "outputs": []
    },
    {
      "cell_type": "markdown",
      "metadata": {
        "id": "DRt_FLtng0k_"
      },
      "source": [
        "# **Добавление блока Genesis**"
      ]
    },
    {
      "cell_type": "markdown",
      "metadata": {
        "id": "EUZxjQ6Ig3vD"
      },
      "source": [
        "Добавление блока в цепочку блоков включает добавление созданного блока в наш список **TPCoins**."
      ]
    },
    {
      "cell_type": "code",
      "metadata": {
        "id": "WvOpVoIZg73X"
      },
      "source": [
        "# Ваш код"
      ],
      "execution_count": null,
      "outputs": []
    },
    {
      "cell_type": "markdown",
      "metadata": {
        "id": "c3VTEz-chE0m"
      },
      "source": [
        "в отличие от остальных блоков в системе, блок генезиса содержит только одну транзакцию, инициированную инициатором системы TPCoins. Теперь вы сбросите содержимое блокчейна, вызвав нашу глобальную функцию dump_blockchain"
      ]
    },
    {
      "cell_type": "code",
      "metadata": {
        "id": "LtNVlBQ9hIUQ"
      },
      "source": [
        "# Ваш код"
      ],
      "execution_count": null,
      "outputs": []
    },
    {
      "cell_type": "markdown",
      "metadata": {
        "id": "Hc4sGKndhPqn"
      },
      "source": [
        "На данный момент система блокчейна готова к использованию. Теперь мы дадим возможность заинтересованным клиентам стать майнерами, предоставив им функциональность майнинга."
      ]
    },
    {
      "cell_type": "markdown",
      "metadata": {
        "id": "aw76F4MUhU9f"
      },
      "source": [
        "# **Создание майнеров**"
      ]
    },
    {
      "cell_type": "markdown",
      "metadata": {
        "id": "M2JNK1Kzl6XR"
      },
      "source": [
        "Для включения майнинга нам нужно разработать функцию майнинга. Функциональность майнинга должна генерировать дайджест по заданной строке сообщения и предоставлять подтверждение работы."
      ]
    },
    {
      "cell_type": "markdown",
      "metadata": {
        "id": "jB5kZutvl-GB"
      },
      "source": [
        "1.   **Функция дайджеста сообщения**"
      ]
    },
    {
      "cell_type": "markdown",
      "metadata": {
        "id": "WeQDad9ZmEjq"
      },
      "source": [
        "Мы напишем служебную функцию sha256 для создания дайджеста по данному сообщению "
      ]
    },
    {
      "cell_type": "code",
      "metadata": {
        "id": "rgdgU2BQmH8m"
      },
      "source": [
        "def sha256(message):\n",
        "  return hashlib.sha256(message.encode('ascii')).hexdigest()"
      ],
      "execution_count": null,
      "outputs": []
    },
    {
      "cell_type": "markdown",
      "metadata": {
        "id": "NIchxim1mKi7"
      },
      "source": [
        "**Функция майнинга**"
      ]
    },
    {
      "cell_type": "markdown",
      "metadata": {
        "id": "yNi1omk9mQs4"
      },
      "source": [
        "Разработаем **функцию майнинга**, которая реализует нашу собственную стратегию майнинга. \n",
        "\n",
        "В этом случае наша стратегия заключается в создании хэша для данного сообщения с префиксом с указанным числом 1. Заданное количество единиц указано в качестве параметра для моей функции, указанной в качестве уровня сложности.\n",
        "\n",
        "Например, если вы укажете уровень сложности 2, сгенерированный хэш для данного сообщения должен начинаться с двух 1 — например, 11xxxxxxxx. Если уровень сложности равен 3, сгенерированный хэш должен начинаться с трех 1 — как 111xxxxxxxx. Учитывая эти требования, мы теперь разработаем **функцию майнинга**, как показано в шагах, приведенных ниже."
      ]
    },
    {
      "cell_type": "markdown",
      "metadata": {
        "id": "VdPnNkKFmhyD"
      },
      "source": [
        "**Шаг 1**"
      ]
    },
    {
      "cell_type": "markdown",
      "metadata": {
        "id": "bxChaZD1mk0-"
      },
      "source": [
        "Функция майнинга принимает два параметра — сообщение и уровень сложности.\n",
        "\n",
        "\n",
        "def mine(message, difficulty=1):"
      ]
    },
    {
      "cell_type": "markdown",
      "metadata": {
        "id": "0tsTem1wmsih"
      },
      "source": [
        "**Шаг 2**"
      ]
    },
    {
      "cell_type": "markdown",
      "metadata": {
        "id": "NDaC0GdqmyZW"
      },
      "source": [
        "Уровень сложности должен быть больше или равен 1, мы обеспечиваем это следующим утверждением assert:\n",
        "\n",
        "assert difficulty >= 1"
      ]
    },
    {
      "cell_type": "markdown",
      "metadata": {
        "id": "_oPHgj2Pm7BB"
      },
      "source": [
        "**Шаг 3**"
      ]
    },
    {
      "cell_type": "markdown",
      "metadata": {
        "id": "M-xMpaE8m9sR"
      },
      "source": [
        "создаем префиксную переменную, используя заданный уровень сложности.\n",
        "\n",
        "\n",
        "prefix = '1' * difficulty"
      ]
    },
    {
      "cell_type": "markdown",
      "metadata": {
        "id": "jw1cH6F5nC7B"
      },
      "source": [
        "если уровень сложности равен 2, префикс будет «11», а если уровень сложности равен 3, префикс будет «111» и т. Д. Мы проверим, существует ли этот префикс в сгенерированном дайджесте сообщения. Чтобы переварить само сообщение, мы используем следующие две строки кода:\n",
        "\n",
        "for i in range(1000):\n",
        "   digest = sha256(str(hash(message)) + str(i))"
      ]
    },
    {
      "cell_type": "markdown",
      "metadata": {
        "id": "7i_-kfrKnLTW"
      },
      "source": [
        "продолжаем добавлять новый номер i в хэш сообщения в каждой итерации и генерируем новый дайджест по объединенному сообщению. Поскольку входные данные для функции sha256 меняются на каждой итерации, значение дайджеста также изменяется. Мы проверяем, имеет ли это значение дайджеста установленный префикс .\n",
        "\n",
        "if digest.startswith(prefix):"
      ]
    },
    {
      "cell_type": "markdown",
      "metadata": {
        "id": "hucKbAxXnRMB"
      },
      "source": [
        "Если условие выполнено, мы завершаем цикл for и возвращаем вызывающему значение дайджеста .\n",
        "\n",
        "Весь мой :\n"
      ]
    },
    {
      "cell_type": "code",
      "metadata": {
        "id": "r4beGH4RnXCz"
      },
      "source": [
        "# Ваш код"
      ],
      "execution_count": null,
      "outputs": []
    },
    {
      "cell_type": "markdown",
      "metadata": {
        "id": "htDpMFNMnZca"
      },
      "source": [
        "оператор print печатает дайджест-значение и количество итераций, необходимых для выполнения условия перед возвратом из функции."
      ]
    },
    {
      "cell_type": "markdown",
      "metadata": {
        "id": "ceMXIWFcniGl"
      },
      "source": [
        "**Тестирование функции майнинга**"
      ]
    },
    {
      "cell_type": "markdown",
      "metadata": {
        "id": "A8X_T82Enkyu"
      },
      "source": [
        "проверить  функцию майнинга, просто выполните:"
      ]
    },
    {
      "cell_type": "code",
      "metadata": {
        "id": "yKZrPTxKnsOp",
        "colab": {
          "base_uri": "https://localhost:8080/",
          "height": 35
        },
        "outputId": "9403e4c2-ad79-43dd-d86c-6e5a7e93bbe0"
      },
      "source": [
        "mine (\"test message\", 2)"
      ],
      "execution_count": null,
      "outputs": [
        {
          "output_type": "execute_result",
          "data": {
            "application/vnd.google.colaboratory.intrinsic+json": {
              "type": "string"
            },
            "text/plain": [
              "'721e8681f5e94b05ca8d6afbbdcdc47fa216fc503c32f755c670f6222896b1c7'"
            ]
          },
          "metadata": {
            "tags": []
          },
          "execution_count": 37
        }
      ]
    },
    {
      "cell_type": "markdown",
      "metadata": {
        "id": "lvGe0rWIorbv"
      },
      "source": [
        "# **Добавление первого блока**"
      ]
    },
    {
      "cell_type": "markdown",
      "metadata": {
        "id": "6QYs9uLmotOp"
      },
      "source": [
        "Чтобы добавить новый блок, мы сначала создаем экземпляр класса **Block** ."
      ]
    },
    {
      "cell_type": "code",
      "metadata": {
        "id": "Kl0nHilQoyqT"
      },
      "source": [
        "# Ваш код"
      ],
      "execution_count": null,
      "outputs": []
    },
    {
      "cell_type": "markdown",
      "metadata": {
        "id": "ZjHwFBb-o1Kj"
      },
      "source": [
        "Мы забираем первые 3 транзакции из очереди "
      ]
    },
    {
      "cell_type": "code",
      "metadata": {
        "id": "1Te4cS-ho3Rk"
      },
      "source": [
        "# Ваш код"
      ],
      "execution_count": null,
      "outputs": []
    }
  ]
}